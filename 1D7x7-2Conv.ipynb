{
 "cells": [
  {
   "cell_type": "code",
   "execution_count": 1,
   "metadata": {},
   "outputs": [
    {
     "name": "stderr",
     "output_type": "stream",
     "text": [
      "C:\\Users\\drimamskom\\Anaconda2\\envs\\opencv36\\lib\\site-packages\\sklearn\\cross_validation.py:41: DeprecationWarning: This module was deprecated in version 0.18 in favor of the model_selection module into which all the refactored classes and functions are moved. Also note that the interface of the new CV iterators are different from that of this module. This module will be removed in 0.20.\n",
      "  \"This module will be removed in 0.20.\", DeprecationWarning)\n",
      "Using TensorFlow backend.\n"
     ]
    }
   ],
   "source": [
    "import os,cv2\n",
    "import sys, random\n",
    "import numpy as np\n",
    "import matplotlib.pyplot as plt\n",
    "import itertools\n",
    "\n",
    "#sklearn\n",
    "from sklearn.utils import shuffle\n",
    "from sklearn.cross_validation import train_test_split\n",
    "from sklearn.metrics import classification_report,confusion_matrix\n",
    "\n",
    "\n",
    "\n",
    "## Keras\n",
    "from keras import backend as K\n",
    "from keras.utils import np_utils\n",
    "from keras.models import Sequential\n",
    "from keras.layers.core import Dense, Dropout, Activation, Flatten\n",
    "from keras.layers.convolutional import Convolution2D, MaxPooling2D\n",
    "from keras.layers import Conv2D, MaxPooling2D\n",
    "from keras.optimizers import SGD,RMSprop,adam,adadelta\n"
   ]
  },
  {
   "cell_type": "code",
   "execution_count": 2,
   "metadata": {},
   "outputs": [
    {
     "name": "stdout",
     "output_type": "stream",
     "text": [
      "Loading dataset-non-spermatozoa\n",
      "\n",
      "Loading dataset-spermatozoa\n",
      "\n"
     ]
    }
   ],
   "source": [
    "Path=os.getcwd() # direktori data\n",
    "data_path=Path+'/Data-sem' #dua folder(spermatozoa dan non-spermatozoa)\n",
    "data_dir_list=os.listdir(data_path) # dua folder\n",
    "img_data_list=[] #menambahkan data ke dalam list\n",
    "for dataset in data_dir_list:\n",
    "    if dataset=='.DS_Store':\n",
    "        pass\n",
    "    else:\n",
    "        img_list=os.listdir(data_path+'/'+ dataset)\n",
    "        print ('Loading dataset-'+'{}\\n'.format(dataset))\n",
    "        for img in img_list:\n",
    "            input_img=cv2.imread(data_path + '/'+ dataset + '/'+ img )\n",
    "            input_img=cv2.cvtColor(input_img, cv2.COLOR_BGR2GRAY)\n",
    "            input_img_resize=cv2.resize(input_img,(64,64))\n",
    "            img_data_list.append(input_img_resize)\n"
   ]
  },
  {
   "cell_type": "code",
   "execution_count": 3,
   "metadata": {},
   "outputs": [],
   "source": [
    "img_rows=64 # tinggi image\n",
    "img_cols=64 #lebar image\n",
    "num_channel=1 #dimensi image~ Gray image\n",
    "num_epoch=10 # jumlah epoh\n",
    "num_classes=2 #kelas-output"
   ]
  },
  {
   "cell_type": "code",
   "execution_count": 4,
   "metadata": {},
   "outputs": [
    {
     "name": "stdout",
     "output_type": "stream",
     "text": [
      "(6026, 64, 64)\n"
     ]
    }
   ],
   "source": [
    "img_data=np.array(img_data_list) #konversi image ke list arrays\n",
    "img_data=img_data.astype('float32') #konversi data type float\n",
    "img_data/=255 #normalisasi\n",
    "print (img_data.shape)"
   ]
  },
  {
   "cell_type": "code",
   "execution_count": 5,
   "metadata": {},
   "outputs": [
    {
     "name": "stdout",
     "output_type": "stream",
     "text": [
      "(6026, 64, 64, 1)\n"
     ]
    },
    {
     "name": "stderr",
     "output_type": "stream",
     "text": [
      "C:\\Users\\drimamskom\\Anaconda2\\envs\\opencv36\\lib\\site-packages\\ipykernel_launcher.py:6: DeprecationWarning: Both axis > a.ndim and axis < -a.ndim - 1 are deprecated and will raise an AxisError in the future.\n",
      "  \n"
     ]
    }
   ],
   "source": [
    "if num_channel==1: #untuk 1D (channel=1)\n",
    "    if K.image_dim_ordering()=='th':\n",
    "        img_data= np.expand_dims(img_data, axis=1)\n",
    "        print (img_data.shape)\n",
    "    else:\n",
    "        img_data= np.expand_dims(img_data, axis=4)\n",
    "        print (img_data.shape)\n",
    "else: # for RGB\n",
    "    if K.image_dim_ordering()=='th':\n",
    "        img_data=np.rollaxis(img_data_data,3,1)\n",
    "        print(img_data.shape)\n",
    "num_of_samples=img_data.shape[0] # Total data"
   ]
  },
  {
   "cell_type": "code",
   "execution_count": 6,
   "metadata": {},
   "outputs": [],
   "source": [
    "labels=np.ones((num_of_samples,),dtype='int64')\n",
    "labels[3011:6026]=1\n",
    "labels[0:3010]=0\n",
    "names=['positive','negative']\n",
    "Y = np_utils.to_categorical(labels, num_classes)"
   ]
  },
  {
   "cell_type": "code",
   "execution_count": 7,
   "metadata": {},
   "outputs": [
    {
     "name": "stdout",
     "output_type": "stream",
     "text": [
      "6026\n"
     ]
    }
   ],
   "source": [
    "print(num_of_samples)"
   ]
  },
  {
   "cell_type": "code",
   "execution_count": 8,
   "metadata": {},
   "outputs": [],
   "source": [
    "x,y = shuffle(img_data,Y, random_state=2)\n",
    "# Split dataset\n",
    "X_train, X_test, y_train, y_test = train_test_split(x, y, test_size=0.2, random_state=2)\n",
    "input_shape=img_data[0].shape"
   ]
  },
  {
   "cell_type": "code",
   "execution_count": 9,
   "metadata": {},
   "outputs": [
    {
     "name": "stdout",
     "output_type": "stream",
     "text": [
      "(64, 64, 1)\n"
     ]
    }
   ],
   "source": [
    "print(input_shape)"
   ]
  },
  {
   "cell_type": "code",
   "execution_count": 10,
   "metadata": {},
   "outputs": [
    {
     "name": "stdout",
     "output_type": "stream",
     "text": [
      "WARNING:tensorflow:From C:\\Users\\drimamskom\\Anaconda2\\envs\\opencv36\\lib\\site-packages\\keras\\backend\\tensorflow_backend.py:1047: calling reduce_prod (from tensorflow.python.ops.math_ops) with keep_dims is deprecated and will be removed in a future version.\n",
      "Instructions for updating:\n",
      "keep_dims is deprecated, use keepdims instead\n"
     ]
    }
   ],
   "source": [
    "model = Sequential()\n",
    "\n",
    "model.add(Convolution2D(32, 7,7,border_mode='same',input_shape=input_shape))\n",
    "model.add(Activation('relu'))\n",
    "\n",
    "model.add(Convolution2D(32, 7, 7))\n",
    "model.add(Activation('relu'))\n",
    "model.add(MaxPooling2D(pool_size=(2, 2)))\n",
    "model.add(Dropout(0.5))\n",
    "\n",
    "model.add(Flatten())\n",
    "\n",
    "model.add(Dense(64))\n",
    "model.add(Activation('relu'))\n",
    "model.add(Dropout(0.5))\n",
    "\n",
    "model.add(Dense(num_classes))\n",
    "model.add(Activation('softmax'))\n"
   ]
  },
  {
   "cell_type": "code",
   "execution_count": 11,
   "metadata": {},
   "outputs": [
    {
     "name": "stdout",
     "output_type": "stream",
     "text": [
      "WARNING:tensorflow:From C:\\Users\\drimamskom\\Anaconda2\\envs\\opencv36\\lib\\site-packages\\keras\\backend\\tensorflow_backend.py:2385: calling reduce_sum (from tensorflow.python.ops.math_ops) with keep_dims is deprecated and will be removed in a future version.\n",
      "Instructions for updating:\n",
      "keep_dims is deprecated, use keepdims instead\n",
      "WARNING:tensorflow:From C:\\Users\\drimamskom\\Anaconda2\\envs\\opencv36\\lib\\site-packages\\keras\\backend\\tensorflow_backend.py:1108: calling reduce_mean (from tensorflow.python.ops.math_ops) with keep_dims is deprecated and will be removed in a future version.\n",
      "Instructions for updating:\n",
      "keep_dims is deprecated, use keepdims instead\n"
     ]
    }
   ],
   "source": [
    "model.compile(loss='categorical_crossentropy', optimizer='adam',metrics=[\"accuracy\"])"
   ]
  },
  {
   "cell_type": "code",
   "execution_count": 12,
   "metadata": {},
   "outputs": [
    {
     "name": "stdout",
     "output_type": "stream",
     "text": [
      "____________________________________________________________________________________________________\n",
      "Layer (type)                     Output Shape          Param #     Connected to                     \n",
      "====================================================================================================\n",
      "convolution2d_1 (Convolution2D)  (None, 64, 64, 32)    1600        convolution2d_input_1[0][0]      \n",
      "____________________________________________________________________________________________________\n",
      "activation_1 (Activation)        (None, 64, 64, 32)    0           convolution2d_1[0][0]            \n",
      "____________________________________________________________________________________________________\n",
      "convolution2d_2 (Convolution2D)  (None, 58, 58, 32)    50208       activation_1[0][0]               \n",
      "____________________________________________________________________________________________________\n",
      "activation_2 (Activation)        (None, 58, 58, 32)    0           convolution2d_2[0][0]            \n",
      "____________________________________________________________________________________________________\n",
      "maxpooling2d_1 (MaxPooling2D)    (None, 29, 29, 32)    0           activation_2[0][0]               \n",
      "____________________________________________________________________________________________________\n",
      "dropout_1 (Dropout)              (None, 29, 29, 32)    0           maxpooling2d_1[0][0]             \n",
      "____________________________________________________________________________________________________\n",
      "flatten_1 (Flatten)              (None, 26912)         0           dropout_1[0][0]                  \n",
      "____________________________________________________________________________________________________\n",
      "dense_1 (Dense)                  (None, 64)            1722432     flatten_1[0][0]                  \n",
      "____________________________________________________________________________________________________\n",
      "activation_3 (Activation)        (None, 64)            0           dense_1[0][0]                    \n",
      "____________________________________________________________________________________________________\n",
      "dropout_2 (Dropout)              (None, 64)            0           activation_3[0][0]               \n",
      "____________________________________________________________________________________________________\n",
      "dense_2 (Dense)                  (None, 2)             130         dropout_2[0][0]                  \n",
      "____________________________________________________________________________________________________\n",
      "activation_4 (Activation)        (None, 2)             0           dense_2[0][0]                    \n",
      "====================================================================================================\n",
      "Total params: 1,774,370\n",
      "Trainable params: 1,774,370\n",
      "Non-trainable params: 0\n",
      "____________________________________________________________________________________________________\n"
     ]
    },
    {
     "data": {
      "text/plain": [
       "True"
      ]
     },
     "execution_count": 12,
     "metadata": {},
     "output_type": "execute_result"
    }
   ],
   "source": [
    "model.summary()\n",
    "model.get_config()\n",
    "model.layers[0].get_config()\n",
    "model.layers[0].input_shape\n",
    "model.layers[0].output_shape\n",
    "model.layers[0].get_weights()\n",
    "np.shape(model.layers[0].get_weights()[0])\n",
    "model.layers[0].trainable"
   ]
  },
  {
   "cell_type": "code",
   "execution_count": 13,
   "metadata": {},
   "outputs": [
    {
     "name": "stdout",
     "output_type": "stream",
     "text": [
      "Train on 3856 samples, validate on 964 samples\n",
      "Epoch 1/10\n",
      "3856/3856 [==============================] - 272s - loss: 0.7184 - acc: 0.5425 - val_loss: 0.6931 - val_acc: 0.4917\n",
      "Epoch 2/10\n",
      "3856/3856 [==============================] - 275s - loss: 0.6936 - acc: 0.5067 - val_loss: 0.6934 - val_acc: 0.4917\n",
      "Epoch 3/10\n",
      "3856/3856 [==============================] - 263s - loss: 0.6934 - acc: 0.5003 - val_loss: 0.6930 - val_acc: 0.5083\n",
      "Epoch 4/10\n",
      "3856/3856 [==============================] - 288s - loss: 0.6934 - acc: 0.5005 - val_loss: 0.6932 - val_acc: 0.4917\n",
      "Epoch 5/10\n",
      "3856/3856 [==============================] - 272s - loss: 0.6931 - acc: 0.5008 - val_loss: 0.6930 - val_acc: 0.5083\n",
      "Epoch 6/10\n",
      "3856/3856 [==============================] - 278s - loss: 0.6931 - acc: 0.4992 - val_loss: 0.6930 - val_acc: 0.5083\n",
      "Epoch 7/10\n",
      "3856/3856 [==============================] - 276s - loss: 0.6935 - acc: 0.5016 - val_loss: 0.6930 - val_acc: 0.5083\n",
      "Epoch 8/10\n",
      "3856/3856 [==============================] - 277s - loss: 0.6934 - acc: 0.4995 - val_loss: 0.6931 - val_acc: 0.5083\n",
      "Epoch 9/10\n",
      "3856/3856 [==============================] - 320s - loss: 0.6935 - acc: 0.4930 - val_loss: 0.6930 - val_acc: 0.5083\n",
      "Epoch 10/10\n",
      "3856/3856 [==============================] - 316s - loss: 0.6932 - acc: 0.5067 - val_loss: 0.6931 - val_acc: 0.5083\n"
     ]
    }
   ],
   "source": [
    "hist = model.fit(X_train, y_train, batch_size=16, nb_epoch=num_epoch, verbose=1, validation_split=0.2)\n"
   ]
  },
  {
   "cell_type": "code",
   "execution_count": 14,
   "metadata": {},
   "outputs": [
    {
     "data": {
      "image/png": "[encoded data removed]",
      "text/plain": [
       "<Figure size 504x360 with 1 Axes>"
      ]
     },
     "metadata": {},
     "output_type": "display_data"
    },
    {
     "data": {
      "image/png": "[encoded data removed]",
      "text/plain": [
       "<Figure size 560x400 with 1 Axes>"
      ]
     },
     "metadata": {},
     "output_type": "display_data"
    }
   ],
   "source": [
    "train_loss=hist.history['loss']\n",
    "val_loss=hist.history['val_loss']\n",
    "train_acc=hist.history['acc']\n",
    "val_acc=hist.history['val_acc']\n",
    "xc=range(num_epoch)\n",
    "\n",
    "plt.figure(1,figsize=(7,5))\n",
    "plt.plot(xc,train_loss)\n",
    "plt.plot(xc,val_loss)\n",
    "plt.xlabel('num of Epochs')\n",
    "plt.ylabel('loss')\n",
    "plt.title('train_loss vs val_loss')\n",
    "plt.grid(True)\n",
    "plt.legend(['train','val'])\n",
    "#print plt.style.available # use bmh, classic,ggplot for big pictures\n",
    "plt.style.use(['classic'])\n",
    "\n",
    "\n",
    "plt.figure(2,figsize=(7,5))\n",
    "plt.plot(xc,train_acc)\n",
    "plt.plot(xc,val_acc)\n",
    "plt.xlabel('num of Epochs')\n",
    "plt.ylabel('accuracy')\n",
    "plt.title('train_acc vs val_acc')\n",
    "plt.grid(True)\n",
    "plt.legend(['train','val'],loc=4)\n",
    "#print plt.style.available # use bmh, classic,ggplot for big pictures\n",
    "plt.style.use(['classic'])\n",
    "plt.show()"
   ]
  },
  {
   "cell_type": "code",
   "execution_count": 15,
   "metadata": {},
   "outputs": [
    {
     "name": "stdout",
     "output_type": "stream",
     "text": [
      "Test Loss: 0.693235835428\n",
      "Test accuracy: 0.473466003613\n"
     ]
    }
   ],
   "source": [
    "score = model.evaluate(X_test, y_test, verbose=0)\n",
    "print('Test Loss:', score[0])\n",
    "print('Test accuracy:', score[1])"
   ]
  },
  {
   "cell_type": "code",
   "execution_count": 16,
   "metadata": {},
   "outputs": [
    {
     "name": "stdout",
     "output_type": "stream",
     "text": [
      "(1, 64, 64, 1)\n",
      "[[ 0.49917719  0.50082284]]\n",
      "1/1 [==============================] - 0s\n",
      "[1]\n",
      "[[ 1.  0.]]\n"
     ]
    }
   ],
   "source": [
    "test_image = X_test[0:1]\n",
    "print (test_image.shape)\n",
    "print(model.predict(test_image))\n",
    "print(model.predict_classes(test_image))\n",
    "print(y_test[0:1])"
   ]
  },
  {
   "cell_type": "code",
   "execution_count": 17,
   "metadata": {},
   "outputs": [
    {
     "name": "stdout",
     "output_type": "stream",
     "text": [
      "(64, 64)\n"
     ]
    }
   ],
   "source": [
    "test_image = cv2.imread('E:/thesis-fix/test/1_3015.jpg')\n",
    "test_image=cv2.cvtColor(test_image, cv2.COLOR_BGR2GRAY)\n",
    "test_image=cv2.resize(test_image,(64,64))\n",
    "test_image = np.array(test_image)\n",
    "test_image = test_image.astype('float32')\n",
    "test_image /= 255\n",
    "print (test_image.shape)"
   ]
  },
  {
   "cell_type": "code",
   "execution_count": 18,
   "metadata": {},
   "outputs": [
    {
     "name": "stdout",
     "output_type": "stream",
     "text": [
      "(1, 64, 64, 1)\n"
     ]
    },
    {
     "name": "stderr",
     "output_type": "stream",
     "text": [
      "C:\\Users\\drimamskom\\Anaconda2\\envs\\opencv36\\lib\\site-packages\\ipykernel_launcher.py:7: DeprecationWarning: Both axis > a.ndim and axis < -a.ndim - 1 are deprecated and will raise an AxisError in the future.\n",
      "  import sys\n"
     ]
    }
   ],
   "source": [
    "if num_channel==1:\n",
    "    if K.image_dim_ordering()=='th':\n",
    "        test_image= np.expand_dims(test_image, axis=0)\n",
    "        test_image= np.expand_dims(test_image, axis=0)\n",
    "        print (test_image.shape)\n",
    "    else:\n",
    "        test_image= np.expand_dims(test_image, axis=3)\n",
    "        test_image= np.expand_dims(test_image, axis=0)\n",
    "        print (test_image.shape)\n",
    "else:\n",
    "    if K.image_dim_ordering()=='th':\n",
    "        test_image=np.rollaxis(test_image,2,0)\n",
    "        test_image= np.expand_dims(test_image, axis=0)\n",
    "        print (test_image.shape)\n",
    "    else:\n",
    "        test_image= np.expand_dims(test_image, axis=0)\n",
    "        print (test_image.shape)\n"
   ]
  },
  {
   "cell_type": "code",
   "execution_count": 19,
   "metadata": {},
   "outputs": [
    {
     "name": "stdout",
     "output_type": "stream",
     "text": [
      "[[ 0.49917719  0.50082284]]\n",
      "1/1 [==============================] - 0s\n",
      "[1]\n"
     ]
    }
   ],
   "source": [
    "print((model.predict(test_image)))\n",
    "print(model.predict_classes(test_image))\n"
   ]
  },
  {
   "cell_type": "code",
   "execution_count": 20,
   "metadata": {},
   "outputs": [
    {
     "name": "stdout",
     "output_type": "stream",
     "text": [
      "(64, 64)\n"
     ]
    }
   ],
   "source": [
    "test_image = cv2.imread('E:/thesis-fix/test/0_3016.jpg')\n",
    "test_image=cv2.cvtColor(test_image, cv2.COLOR_BGR2GRAY)\n",
    "test_image=cv2.resize(test_image,(64,64))\n",
    "test_image = np.array(test_image)\n",
    "test_image = test_image.astype('float32')\n",
    "test_image /= 255\n",
    "print (test_image.shape)"
   ]
  },
  {
   "cell_type": "code",
   "execution_count": 21,
   "metadata": {},
   "outputs": [
    {
     "name": "stdout",
     "output_type": "stream",
     "text": [
      "(1, 64, 64, 1)\n"
     ]
    },
    {
     "name": "stderr",
     "output_type": "stream",
     "text": [
      "C:\\Users\\drimamskom\\Anaconda2\\envs\\opencv36\\lib\\site-packages\\ipykernel_launcher.py:7: DeprecationWarning: Both axis > a.ndim and axis < -a.ndim - 1 are deprecated and will raise an AxisError in the future.\n",
      "  import sys\n"
     ]
    }
   ],
   "source": [
    "if num_channel==1:\n",
    "    if K.image_dim_ordering()=='th':\n",
    "        test_image= np.expand_dims(test_image, axis=0)\n",
    "        test_image= np.expand_dims(test_image, axis=0)\n",
    "        print (test_image.shape)\n",
    "    else:\n",
    "        test_image= np.expand_dims(test_image, axis=3)\n",
    "        test_image= np.expand_dims(test_image, axis=0)\n",
    "        print (test_image.shape)\n",
    "else:\n",
    "    if K.image_dim_ordering()=='th':\n",
    "        test_image=np.rollaxis(test_image,2,0)\n",
    "        test_image= np.expand_dims(test_image, axis=0)\n",
    "        print (test_image.shape)\n",
    "    else:\n",
    "        test_image= np.expand_dims(test_image, axis=0)\n",
    "        print (test_image.shape)\n"
   ]
  },
  {
   "cell_type": "code",
   "execution_count": 22,
   "metadata": {},
   "outputs": [
    {
     "name": "stdout",
     "output_type": "stream",
     "text": [
      "[[ 0.49917719  0.50082284]]\n",
      "1/1 [==============================] - 0s\n",
      "[1]\n"
     ]
    }
   ],
   "source": [
    "print((model.predict(test_image)))\n",
    "print(model.predict_classes(test_image))\n"
   ]
  },
  {
   "cell_type": "code",
   "execution_count": 23,
   "metadata": {},
   "outputs": [
    {
     "name": "stdout",
     "output_type": "stream",
     "text": [
      "(1, 1, 29, 29, 32)\n",
      "(29, 29, 32)\n",
      "(29, 29, 32)\n"
     ]
    },
    {
     "data": {
      "image/png": "[encoded data removed]",
      "text/plain": [
       "<Figure size 1280x1280 with 1 Axes>"
      ]
     },
     "metadata": {},
     "output_type": "display_data"
    }
   ],
   "source": [
    "def get_featuremaps(model, layer_idx, X_batch):\n",
    "    get_activations = K.function([model.layers[0].input, K.learning_phase()],[model.layers[layer_idx].output,])\n",
    "    activations = get_activations([X_batch,0])\n",
    "    return activations\n",
    "\n",
    "layer_num=4\n",
    "filter_num=0\n",
    "\n",
    "activations = get_featuremaps(model, int(layer_num),test_image)\n",
    "print (np.shape(activations))\n",
    "feature_maps = activations[0][0]\n",
    "print (np.shape(feature_maps))\n",
    "\n",
    "if K.image_dim_ordering()=='th':\n",
    "    feature_maps=np.rollaxis((np.rollaxis(feature_maps,2,0)),2,0)\n",
    "print (feature_maps.shape)\n",
    "\n",
    "fig=plt.figure(figsize=(16,16))\n",
    "plt.imshow(feature_maps[:,:,filter_num],cmap='gray')\n",
    "plt.show()"
   ]
  },
  {
   "cell_type": "code",
   "execution_count": 24,
   "metadata": {},
   "outputs": [
    {
     "data": {
      "image/png": "[encoded data removed]",
      "text/plain": [
       "<Figure size 1280x1280 with 33 Axes>"
      ]
     },
     "metadata": {},
     "output_type": "display_data"
    }
   ],
   "source": [
    "num_of_featuremaps=feature_maps.shape[2]\n",
    "fig=plt.figure(figsize=(16,16))\n",
    "plt.title(\"featuremaps-layer-{}\".format(layer_num))\n",
    "subplot_num=int(np.ceil(np.sqrt(num_of_featuremaps)))\n",
    "for i in range(int(num_of_featuremaps)):\n",
    "    ax = fig.add_subplot(subplot_num, subplot_num, i+1)\n",
    "    ax.imshow(feature_maps[:,:,i],cmap='gray')\n",
    "    plt.xticks([])\n",
    "    plt.yticks([])\n",
    "    plt.tight_layout()\n",
    "plt.show()"
   ]
  },
  {
   "cell_type": "code",
   "execution_count": 25,
   "metadata": {},
   "outputs": [
    {
     "name": "stdout",
     "output_type": "stream",
     "text": [
      "[[ 0.49917719  0.50082284]\n",
      " [ 0.49917719  0.50082284]\n",
      " [ 0.49917719  0.50082284]\n",
      " ..., \n",
      " [ 0.49917719  0.50082284]\n",
      " [ 0.49917719  0.50082284]\n",
      " [ 0.49917719  0.50082284]]\n",
      "[1 1 1 ..., 1 1 1]\n",
      "                          precision    recall  f1-score   support\n",
      "\n",
      "class 0(Non-spermatozoa)       0.00      0.00      0.00       635\n",
      "    class 1(Spermatozoa)       0.47      1.00      0.64       571\n",
      "\n",
      "             avg / total       0.22      0.47      0.30      1206\n",
      "\n",
      "[[  0 635]\n",
      " [  0 571]]\n"
     ]
    },
    {
     "name": "stderr",
     "output_type": "stream",
     "text": [
      "C:\\Users\\drimamskom\\Anaconda2\\envs\\opencv36\\lib\\site-packages\\sklearn\\metrics\\classification.py:1135: UndefinedMetricWarning: Precision and F-score are ill-defined and being set to 0.0 in labels with no predicted samples.\n",
      "  'precision', 'predicted', average, warn_for)\n"
     ]
    }
   ],
   "source": [
    "Y_pred = model.predict(X_test)\n",
    "print(Y_pred)\n",
    "y_pred = np.argmax(Y_pred, axis=1)\n",
    "print(y_pred)\n",
    "target_names = ['class 0(Non-spermatozoa)', 'class 1(Spermatozoa)']\n",
    "print(classification_report(np.argmax(y_test,axis=1), y_pred,target_names=target_names))\n",
    "print(confusion_matrix(np.argmax(y_test,axis=1), y_pred))"
   ]
  },
  {
   "cell_type": "code",
   "execution_count": 26,
   "metadata": {},
   "outputs": [],
   "source": [
    "def plot_confusion_matrix(cm, classes,\n",
    "                          normalize=False,\n",
    "                          title='Confusion matrix',\n",
    "                          cmap=plt.cm.Blues):\n",
    "    \n",
    "    plt.imshow(cm, interpolation='nearest', cmap=cmap)\n",
    "    plt.title(title)\n",
    "    plt.colorbar()\n",
    "    tick_marks = np.arange(len(classes))\n",
    "    plt.xticks(tick_marks, classes, rotation=45)\n",
    "    plt.yticks(tick_marks, classes)\n",
    "\n",
    "    if normalize:\n",
    "        cm = cm.astype('float') / cm.sum(axis=1)[:, np.newaxis]\n",
    "        print(\"Normalisasi confusion matrix\")\n",
    "    else:\n",
    "        print('Confusion matrix, tanpa normalisasi')\n",
    "\n",
    "    print(cm)\n",
    "\n",
    "    thresh = cm.max() / 2.\n",
    "    for i, j in itertools.product(range(cm.shape[0]), range(cm.shape[1])):\n",
    "        plt.text(j, i, cm[i, j],\n",
    "                 horizontalalignment=\"center\",\n",
    "                 color=\"white\" if cm[i, j] > thresh else \"black\")\n",
    "\n",
    "    plt.tight_layout()\n",
    "    plt.ylabel('True label')\n",
    "    plt.xlabel('Predicted label')\n"
   ]
  },
  {
   "cell_type": "code",
   "execution_count": 27,
   "metadata": {},
   "outputs": [
    {
     "name": "stdout",
     "output_type": "stream",
     "text": [
      "Confusion matrix, tanpa normalisasi\n",
      "[[  0 635]\n",
      " [  0 571]]\n"
     ]
    },
    {
     "data": {
      "image/png": "[encoded data removed]",
      "text/plain": [
       "<Figure size 640x480 with 2 Axes>"
      ]
     },
     "metadata": {},
     "output_type": "display_data"
    }
   ],
   "source": [
    "cnf_matrix = (confusion_matrix(np.argmax(y_test,axis=1), y_pred))\n",
    "\n",
    "np.set_printoptions(precision=2)\n",
    "\n",
    "plt.figure()\n",
    "\n",
    "# Plot non-normalized confusion matrix\n",
    "plot_confusion_matrix(cnf_matrix, classes=target_names,\n",
    "                      title='Confusion matrix')"
   ]
  },
  {
   "cell_type": "code",
   "execution_count": null,
   "metadata": {},
   "outputs": [],
   "source": [
    "import matplotlib.pyplot as plt\n",
    "import matplotlib.patches as patches\n",
    "from PIL import Image\n",
    "import numpy as np\n",
    "\n",
    "im_age=cv2.imread('E:/thesis-fix/test/00211.jpg')\n",
    "im_age=cv2.cvtColor(im_age, cv2.COLOR_BGR2GRAY)\n",
    "\n",
    "height=len(im_age[0])\n",
    "width=len(im_age[1])\n"
   ]
  },
  {
   "cell_type": "code",
   "execution_count": null,
   "metadata": {},
   "outputs": [],
   "source": [
    "step = 10\n",
    "AOI_coordinates = []\n",
    "picture_tensor=[]\n",
    "\n",
    "image_array = np.array(im_age).astype('uint8')\n",
    "plt.figure(1, figsize = (15, 30))\n",
    "plt.imshow(image_array, cmap='gray')\n",
    "plt.show()"
   ]
  },
  {
   "cell_type": "code",
   "execution_count": null,
   "metadata": {},
   "outputs": [],
   "source": [
    "def clipped(x, y):\n",
    "    #Area Of Interst (AOI)\n",
    "    AOI = np.arange(1*64*64).reshape(1, 64, 64)\n",
    "    for i in range(64):\n",
    "        for j in range(64):\n",
    "            AOI[0][i][j] = picture_tensor[0][y+i][x+j] \n",
    "            AOI[1][i][j] = picture_tensor[1][y+i][x+j] \n",
    "    AOI = AOI.reshape([-1, 1, 64, 64])\n",
    "    AOI = AOI.transpose([0,1,2,3])\n",
    "    AOI = AOI / 255\n",
    "    sys.stdout.write('\\rX_coordinate:{0} Y_coordinate:{1}  '.format(x, y))\n",
    "    return AOI\n",
    "\n",
    "#to check distance\n",
    "def dist(x, y, size, coordinates):\n",
    "    result = True\n",
    "    for point in coordinates:\n",
    "        if x+size > point[0][0] and x-size < point[0][0] and y+size > point[0][1] and y-size < point[0][1]:\n",
    "            result = False\n",
    "    return result\n"
   ]
  },
  {
   "cell_type": "code",
   "execution_count": null,
   "metadata": {},
   "outputs": [],
   "source": [
    "print(range(int((height-(64-step))/step)))"
   ]
  },
  {
   "cell_type": "code",
   "execution_count": null,
   "metadata": {},
   "outputs": [],
   "source": []
  }
 ],
 "metadata": {
  "kernelspec": {
   "display_name": "Python 3",
   "language": "python",
   "name": "python3"
  },
  "language_info": {
   "codemirror_mode": {
    "name": "ipython",
    "version": 3
   },
   "file_extension": ".py",
   "mimetype": "text/x-python",
   "name": "python",
   "nbconvert_exporter": "python",
   "pygments_lexer": "ipython3",
   "version": "3.6.5"
  }
 },
 "nbformat": 4,
 "nbformat_minor": 2
}
